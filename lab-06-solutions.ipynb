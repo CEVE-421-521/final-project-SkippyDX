{
  "cells": [
    {
      "cell_type": "raw",
      "metadata": {},
      "source": [
        "---\n",
        "title: Lab 6 Solutions\n",
        "author: CEVE 421-521\n",
        "date: '2024-04-04'\n",
        "format:\n",
        "  html: default\n",
        "  pdf:\n",
        "    documentclass: article\n",
        "    fontsize: 11pt\n",
        "    geometry:\n",
        "      - margin=1in\n",
        "    number-sections: true\n",
        "    code-line-numbers: true\n",
        "date-format: 'ddd., MMM. D'\n",
        "references: references.bib\n",
        "execute:\n",
        "  cache: true\n",
        "---"
      ],
      "id": "1dbf0084"
    },
    {
      "cell_type": "markdown",
      "metadata": {},
      "source": [
        "# Setup\n"
      ],
      "id": "2354718c"
    },
    {
      "cell_type": "code",
      "metadata": {},
      "source": [
        "using CSV\n",
        "using DataFrames\n",
        "using DataFramesMeta\n",
        "using Distributions\n",
        "using LaTeXStrings\n",
        "using Metaheuristics\n",
        "using Plots\n",
        "using Random\n",
        "using Unitful\n",
        "\n",
        "Plots.default(; margin=5Plots.mm)"
      ],
      "id": "856d8327",
      "execution_count": null,
      "outputs": []
    },
    {
      "cell_type": "markdown",
      "metadata": {},
      "source": [
        "We also load our local package as in lab 5.\n"
      ],
      "id": "f3decfcc"
    },
    {
      "cell_type": "code",
      "metadata": {},
      "source": [
        "using Revise\n",
        "using HouseElevation"
      ],
      "id": "99ef21e6",
      "execution_count": null,
      "outputs": []
    },
    {
      "cell_type": "markdown",
      "metadata": {},
      "source": [
        "# States of the world\n",
        "\n",
        "We begin by defining the variables that don't change from one SOW to the next.\n",
        "We load these into the `ModelParams`.\n"
      ],
      "id": "f6ac32b1"
    },
    {
      "cell_type": "code",
      "metadata": {},
      "source": [
        "#| output: false\n",
        "house = let\n",
        "    haz_fl_dept = CSV.read(\"data/haz_fl_dept.csv\", DataFrame) # read in the file\n",
        "    desc = \"one story, Contents, fresh water, short duration\"\n",
        "    row = @rsubset(haz_fl_dept, :Description == desc)[1, :] # select the row I want\n",
        "    area = 500u\"ft^2\"\n",
        "    height_above_gauge = 12u\"ft\"\n",
        "    House(row; area=area, height_above_gauge=height_above_gauge, value_usd=250_000)\n",
        "end\n",
        "\n",
        "p = ModelParams(; house=house, years=2024:2083)"
      ],
      "id": "583d6090",
      "execution_count": null,
      "outputs": []
    },
    {
      "cell_type": "markdown",
      "metadata": {},
      "source": [
        "Next we define how we will sample the states of the world.\n"
      ],
      "id": "fb0817b7"
    },
    {
      "cell_type": "code",
      "metadata": {},
      "source": [
        "#| output: false\n",
        "slr_scenarios = let\n",
        "    df = CSV.read(\"data/slr_oddo.csv\", DataFrame)\n",
        "    [Oddo17SLR(a, b, c, tstar, cstar) for (a, b, c, tstar, cstar) in eachrow(df)]\n",
        "end\n",
        "\n",
        "function draw_surge_distribution()\n",
        "    μ = rand(Normal(5, 1))\n",
        "    σ = rand(Exponential(1.25))\n",
        "    ξ = rand(Normal(0.1, 0.05))\n",
        "    return GeneralizedExtremeValue(μ, σ, ξ)\n",
        "end\n",
        "\n",
        "function draw_discount_rate()\n",
        "    return rand(Normal(0.05, 0.03))\n",
        "end\n",
        "\n",
        "function draw_sow()\n",
        "    slr = rand(slr_scenarios)\n",
        "    surge_params = draw_surge_distribution()\n",
        "    discount = draw_discount_rate()\n",
        "    return SOW(slr, surge_params, discount)\n",
        "end"
      ],
      "id": "104ec724",
      "execution_count": null,
      "outputs": []
    },
    {
      "cell_type": "markdown",
      "metadata": {},
      "source": [
        "Finally we can sample the SOWs\n"
      ],
      "id": "dbe78390"
    },
    {
      "cell_type": "code",
      "metadata": {},
      "source": [
        "#| output: false\n",
        "Random.seed!(421521)\n",
        "N_SOW = 10_000\n",
        "N_SOW_opt = 10 # to start\n",
        "sows = [draw_sow() for _ in 1:N_SOW]\n",
        "sows_opt = first(sows, N_SOW_opt)"
      ],
      "id": "194e9cea",
      "execution_count": null,
      "outputs": []
    },
    {
      "cell_type": "markdown",
      "metadata": {},
      "source": [
        "# Optimization\n",
        "\n",
        "## Bounds\n",
        "\n",
        "We have a single decision variable, the height of the house above the ground.\n",
        "This can be any real number between 0 and 14 feet.\n"
      ],
      "id": "ca38b631"
    },
    {
      "cell_type": "code",
      "metadata": {},
      "source": [
        "bounds = boxconstraints(; lb=[0.0], ub=[14.0])"
      ],
      "id": "3a054247",
      "execution_count": null,
      "outputs": []
    },
    {
      "cell_type": "markdown",
      "metadata": {},
      "source": [
        "## Objective function\n",
        "\n",
        "We next need an objective function.\n",
        "Recall that we want to _maximize_ NPV, but the optimization package we are using is set up to _minimize_.\n"
      ],
      "id": "bb6b9fb5"
    },
    {
      "cell_type": "code",
      "metadata": {},
      "source": [
        "function objective_function(Δh::Vector{Float64})\n",
        "    a = Action(Δh[1])\n",
        "    npvs = [run_sim(a, sow, p) for sow in sows_opt]\n",
        "    return -mean(npvs)\n",
        "end"
      ],
      "id": "8baeaf27",
      "execution_count": null,
      "outputs": []
    },
    {
      "cell_type": "markdown",
      "metadata": {},
      "source": [
        "## Running\n",
        "\n",
        "We can throw this straight into the `optimize` function:\n"
      ],
      "id": "e0595346"
    },
    {
      "cell_type": "code",
      "metadata": {},
      "source": [
        "result = optimize(objective_function, bounds)"
      ],
      "id": "d4dd6458",
      "execution_count": null,
      "outputs": []
    },
    {
      "cell_type": "markdown",
      "metadata": {},
      "source": [
        "We can view the minimum of the objective function with\n"
      ],
      "id": "b6c59cb3"
    },
    {
      "cell_type": "code",
      "metadata": {},
      "source": [
        "minimum(result)"
      ],
      "id": "1129faae",
      "execution_count": null,
      "outputs": []
    },
    {
      "cell_type": "markdown",
      "metadata": {},
      "source": [
        "and the value of the decision variable that achieves that minimum with:\n"
      ],
      "id": "20f70f07"
    },
    {
      "cell_type": "code",
      "metadata": {},
      "source": [
        "minimizer(result)"
      ],
      "id": "56eb37d2",
      "execution_count": null,
      "outputs": []
    },
    {
      "cell_type": "markdown",
      "metadata": {},
      "source": [
        "This seems like it's working plausibly.\n",
        "Let's try now with more SOWs.\n"
      ],
      "id": "4e43576e"
    },
    {
      "cell_type": "code",
      "metadata": {},
      "source": [
        "N_SOW_opt = 100\n",
        "sows_opt = first(sows, N_SOW_opt)"
      ],
      "id": "35d7aaab",
      "execution_count": null,
      "outputs": []
    },
    {
      "cell_type": "markdown",
      "metadata": {},
      "source": [
        "Since I'm using more SOWs here, I'll also increase the time limit for the optimization to three minutes.\n"
      ],
      "id": "da532476"
    },
    {
      "cell_type": "code",
      "metadata": {},
      "source": [
        "options = Options(; time_limit=180.0, f_tol_rel=10.0)"
      ],
      "id": "d813e065",
      "execution_count": null,
      "outputs": []
    },
    {
      "cell_type": "markdown",
      "metadata": {},
      "source": [
        "To use options, we have to choose an algorithm.\n",
        "See list of algorithms [here](https://jmejia8.github.io/Metaheuristics.jl/stable/algorithms/).\n",
        "The `ECA` algorithm is suggested as a default, so we'll use that.\n"
      ],
      "id": "04e9b9e0"
    },
    {
      "cell_type": "code",
      "metadata": {},
      "source": [
        "algorithm = ECA(; options=options)"
      ],
      "id": "6bd9a90f",
      "execution_count": null,
      "outputs": []
    },
    {
      "cell_type": "markdown",
      "metadata": {},
      "source": [
        "Before we run the optimization, let's set a random seed.\n",
        "This will make our results more reproducible.\n",
        "We can then vary the seed to see how sensitive our results are to the random seed.\n"
      ],
      "id": "21ac6b2a"
    },
    {
      "cell_type": "code",
      "metadata": {},
      "source": [
        "Random.seed!(421521)\n",
        "result = optimize(objective_function, bounds, algorithm)"
      ],
      "id": "42238873",
      "execution_count": null,
      "outputs": []
    },
    {
      "cell_type": "markdown",
      "metadata": {},
      "source": [
        "We can view our result with\n"
      ],
      "id": "b259f0f1"
    },
    {
      "cell_type": "code",
      "metadata": {},
      "source": [
        "display(minimum(result))\n",
        "display(minimizer(result))"
      ],
      "id": "73fdc02d",
      "execution_count": null,
      "outputs": []
    },
    {
      "cell_type": "markdown",
      "metadata": {},
      "source": [
        "# Validation\n",
        "\n",
        "In this case, we don't really _need_ optimization -- we can use brute force.\n",
        "We can compare by plotting the objective function for a range of elevations (from 0 to 14 ft) using all SOWs.\n"
      ],
      "id": "87297897"
    },
    {
      "cell_type": "code",
      "metadata": {},
      "source": [
        "#| output: false\n",
        "elevations_try = 0:0.5:14\n",
        "actions_try = Action.(elevations_try)\n",
        "\n",
        "N_more = 500\n",
        "npvs_opt = [mean([run_sim(a, sow, p) for sow in sows_opt]) for a in actions_try]\n",
        "npvs_moore = [\n",
        "    mean([run_sim(a, sow, p) for sow in first(sows, N_more)]) for a in actions_try\n",
        "]"
      ],
      "id": "1af15b26",
      "execution_count": null,
      "outputs": []
    },
    {
      "cell_type": "markdown",
      "metadata": {},
      "source": [
        "and plot\n"
      ],
      "id": "844d7f4c"
    },
    {
      "cell_type": "code",
      "metadata": {},
      "source": [
        "plot(\n",
        "    elevations_try,\n",
        "    npvs_opt ./ 1000;\n",
        "    xlabel=\"Elevation [ft]\",\n",
        "    ylabel=\"NPV [1000 USD]\",\n",
        "    label=\"First $(N_SOW_opt) SOWs\",\n",
        "    marker=:circle,\n",
        ")\n",
        "plot!(elevations_try, npvs_moore ./ 1000; label=\"First $(N_more) SOWs\", marker=:circle)\n",
        "vline!([minimizer(result)]; label=\"Optimal\", linestyle=:dash)"
      ],
      "id": "4a6354bf",
      "execution_count": null,
      "outputs": []
    },
    {
      "cell_type": "markdown",
      "metadata": {},
      "source": [
        "Key insights:\n",
        "\n",
        "1. Our optimization appears to be working well, and maximizes the blue curve as it should\n",
        "1. There is a substantial difference between the blue and red lines, indicating that using different SOWs (from the same distribution!) can make a big difference\n",
        "1. Going from zero (don't elevate) to a small elevation is always bad, as you gain little flood protection but have to pay the fixed costs of elevation\n",
        "1. The optimal elevation is highly sensitive to assumptions about the SOWs"
      ],
      "id": "bbf9e1bd"
    }
  ],
  "metadata": {
    "kernelspec": {
      "name": "julia-1.10",
      "language": "julia",
      "display_name": "Julia 1.10.0"
    }
  },
  "nbformat": 4,
  "nbformat_minor": 5
}