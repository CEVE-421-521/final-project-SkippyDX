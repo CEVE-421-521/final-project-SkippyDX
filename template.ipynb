{
  "cells": [
    {
      "cell_type": "raw",
      "metadata": {},
      "source": [
        "---\n",
        "title: Final Project Report\n",
        "author: Kyle Olcott (kto1) and Patricia Hashimoto (pch3)\n",
        "date: '2024-04-30'\n",
        "format:\n",
        "  html: default\n",
        "  docx:\n",
        "    toc: true\n",
        "    fig-format: png\n",
        "    number-sections: true\n",
        "    code-line-numbers: true\n",
        "date-format: 'ddd., MMM. D'\n",
        "references: references.bib\n",
        "execute:\n",
        "  cache: true\n",
        "---"
      ],
      "id": "fa3a8a24"
    },
    {
      "cell_type": "markdown",
      "metadata": {},
      "source": [
        "## Problem Statement\n",
        "\n",
        "\n",
        "Clearly define the problem statement that your chosen feature aims to address.\n",
        "Explain the significance of this problem in the context of climate risk management.\n",
        "\n",
        "\n",
        "This project will improve the model's ability to estimate the price to rebuild a home after flooding by accounting for more complex aspects of discount rate and price changes based on scarcity after a flood.\n",
        "\n",
        "\n",
        "To obtain a more accurate understanding of cost over time, the discount rate will be broken down to have separate discount rates for the net present value calculation, the housing market, and the cost of labor and materials. Including these values will capture the way that different aspects of cost change over time in different ways; for example, perhaps inflation is higher for labor or materials. These factors will affect estimates of the cost to rebuild a house entirely from scratch. The discount rates, which may have different distributions or be constant, will be decided based on the findings of the literature review.\n",
        "\n",
        "\n",
        "Additionally, the model will be modified to capture how scarcity caused by a flood affects construction cost by multiplying reconstruction costs by a scarcity factor that will be decided after the literature review. These factors are significant as our current model has the value of the house be static even after 60 years, which is unrealistic. This makes us vulnerable to underestimating the cost to rebuild the house in the future, possibly making low elevations optimal compared to higher elevations. With more accurate construction costs, we should have less of an issue with overestimating the NPV at different elevations.\n",
        "\n",
        "\n",
        "The components added to the model are illustrated in Figure 1.\n",
        "\n",
        "\n",
        "<!-- ![housing_cost_pipeline](house_cost_pipeline.png){width=80%} -->\n",
        "\n",
        "\n",
        "\n",
        "\n",
        "\n",
        "\n",
        "## Selected Feature\n",
        "\n",
        "Describe the feature you have selected to add to the existing decision-support tool.\n",
        "Discuss how this feature relates to the problem statement and its potential to improve climate risk assessment.\n",
        "\n",
        "The two features we've decided to add are additional discount rates in order to model price increase for construction and labor costs as well as a factor that multiplies the cost to rebuild the house in order to model scarcity after a flood event. This will improve the climate risk assessment as it more accurately shows the magnitude of the costs associated with rebuilding the house. Under our previous model without these changes, we are likely to come to an optimal solution that is lower than what the elevation should actually be in the real world. The increased cost to rebuild in the future may make solutions using a higher elevation in year 1 more robust.\n",
        "\n",
        "# Literature Review\n",
        "\n",
        "Provide a brief overview of the theoretical background related to your chosen feature.\n",
        "Cite at least two relevant journal articles to support your approach (see [Quarto docs](https://quarto.org/docs/authoring/footnotes-and-citations.html) for help with citations).\n",
        "Explain how these articles contribute to the justification of your selected feature.\n",
        "\n",
        "The majority of articles refer to construction cost increases after natural disasters as “demand surges”. While many factors are theorized to play into demand surges, such as increased labor costs, material costs, etc., there is little consensus of how these factors quantitatively play into the magnitude of the demand surge following a hazard. Despite the lack of formal consensus on the topic, demand surge can still be approximately modeled based on historical data and basing our assumptions from previous research. For example, the paper with the highest claimed demand surge was 20%. From this, we can make assumptions about our boundaries for the demand surge with it ranging from 0-20%. Further research on the topic has also shown there is a correlation between hazard magnitude and labor costs in East Coast states during hurricane season. Interestly, though, there was no significant correlation between the hazard and materials cost. Regardless of that finding, though, this paper shows a possible correlation between the hazard’s magnitude and a factor that plays into demand surge. Using these findings, we can build our model to be a function where the input is the magnitude of the hazard and the output is the demand surge. Finally, previous research articles have included models for demand surge using a linear relationship. Copying this method can complete the function discussed previously, as our relationship between hazard magnitude and demand surge can simply be modeled as a linear relationship too.\n",
        "\n",
        "# Methodology\n",
        "\n",
        "## Implementation\n",
        "\n",
        "You should make your modifications in either the `HouseElevation` or `ParkingGarage` module.\n",
        "Detail the steps taken to implement the selected feature and integrate it into the decision-support tool.\n",
        "Include code snippets and explanations where necessary to clarify the implementation process.\n",
        "\n",
        "The scarcity/demand surge feature will be added by assuming a linear relationship between the damage of the house and the demand surge magnitude. The highest value for a demand surge was found to be around 20%. Thus, if a house was damaged by 50%, the demand surge will be 50% of 20%, which is 10%. This 10% will then be multiplied onto the damage that the house suffered in order to model how much more it would cost to rebuild under scarcity. For the example before, this would be 50% * (1 + 10%) = 55% damage.\n",
        "\n",
        "## Validation\n",
        "\n",
        "As we have seen in labs, mistakes are inevitable and can lead to misleading results.\n",
        "To minimize the risk of errors making their way into final results, it is essential to validate the implemented feature.\n",
        "Describe the validation techniques used to ensure the accuracy and reliability of your implemented feature.\n",
        "Discuss any challenges faced during the validation process and how they were addressed.\n",
        "\n",
        "# Results\n",
        "\n",
        "Present the results obtained from the enhanced decision-support tool.\n",
        "Use tables, figures, and visualizations to clearly communicate the outcomes.\n",
        "Provide sufficient detail to demonstrate how the implemented feature addresses the problem statement.\n",
        "Use the `#| output: false` and/or `#| echo: false` tags to hide code output and code cells in the final report except where showing the output (e.g.g, a plot) or the code (e.g., how you are sampling SOWs) adds value to the discussion.\n",
        "You may have multiple subsections of results, which you can create using `##`.\n",
        "\n",
        "# Conclusions\n",
        "\n",
        "## Discussion\n",
        "\n",
        "Analyze the implications of your results for climate risk management.\n",
        "Consider the context of the class themes and discuss how your findings contribute to the understanding of climate risk assessment.\n",
        "Identify any limitations of your approach and suggest potential improvements for future work.\n",
        "\n",
        "## Conclusions\n",
        "\n",
        "Summarize the key findings of your project and reiterate the significance of your implemented feature in addressing the problem statement.\n",
        "Discuss the broader implications of your work for climate risk management and the potential for further research in this area.\n",
        "\n",
        "# References\n",
        "\n",
        ":::{#refs}\n",
        ":::\n"
      ],
      "id": "7b65e5d9"
    },
    {
      "cell_type": "code",
      "metadata": {},
      "source": [
        "using CSV\n",
        "using DataFrames\n",
        "using DataFramesMeta\n",
        "using Distributions\n",
        "using LaTeXStrings\n",
        "using Metaheuristics\n",
        "using Plots\n",
        "using Random\n",
        "using Unitful\n",
        "\n",
        "Plots.default(; margin=5Plots.mm)"
      ],
      "id": "b8f0569c",
      "execution_count": null,
      "outputs": []
    },
    {
      "cell_type": "markdown",
      "metadata": {},
      "source": [
        "We also load our local package as in lab 5.\n"
      ],
      "id": "8cbacdd0"
    },
    {
      "cell_type": "code",
      "metadata": {},
      "source": [
        "using Revise\n",
        "using HouseElevation"
      ],
      "id": "8563c9d1",
      "execution_count": null,
      "outputs": []
    },
    {
      "cell_type": "markdown",
      "metadata": {},
      "source": [
        "# States of the world\n",
        "\n",
        "We begin by defining the variables that don't change from one SOW to the next.\n",
        "We load these into the `ModelParams`.\n"
      ],
      "id": "6df9c9b2"
    },
    {
      "cell_type": "code",
      "metadata": {},
      "source": [
        "#| output: false\n",
        "house = let\n",
        "    haz_fl_dept = CSV.read(\"data/haz_fl_dept.csv\", DataFrame) # read in the file\n",
        "    desc = \"one story, Contents, fresh water, short duration\"\n",
        "    row = @rsubset(haz_fl_dept, :Description == desc)[1, :] # select the row I want\n",
        "    area = 500u\"ft^2\"\n",
        "    height_above_gauge = 12u\"ft\"\n",
        "    House(row; area=area, height_above_gauge=height_above_gauge, value_usd=250_000)\n",
        "end\n",
        "\n",
        "p = ModelParams(; house=house, years=2024:2083)"
      ],
      "id": "85cb209c",
      "execution_count": null,
      "outputs": []
    },
    {
      "cell_type": "markdown",
      "metadata": {},
      "source": [
        "Next we define how we will sample the states of the world.\n"
      ],
      "id": "f5bc69cf"
    },
    {
      "cell_type": "code",
      "metadata": {},
      "source": [
        "#| output: false\n",
        "slr_scenarios = let\n",
        "    df = CSV.read(\"data/slr_oddo.csv\", DataFrame)\n",
        "    [Oddo17SLR(a, b, c, tstar, cstar) for (a, b, c, tstar, cstar) in eachrow(df)]\n",
        "end\n",
        "\n",
        "function draw_surge_distribution()\n",
        "    μ = rand(Normal(5, 1))\n",
        "    σ = rand(Exponential(1.25))\n",
        "    ξ = rand(Normal(0.1, 0.05))\n",
        "    return GeneralizedExtremeValue(μ, σ, ξ)\n",
        "end\n",
        "\n",
        "function draw_discount_rate()\n",
        "    return rand(Normal(0.05, 0.03))\n",
        "end\n",
        "\n",
        "function house_discount_rate()\n",
        "    return 0.045\n",
        "end\n",
        "\n",
        "function draw_sow()\n",
        "    slr = rand(slr_scenarios)\n",
        "    surge_params = draw_surge_distribution()\n",
        "    discount_rate = draw_discount_rate()\n",
        "    house_discount = house_discount_rate()\n",
        "    return SOW(slr, surge_params, discount_rate, house_discount)\n",
        "end"
      ],
      "id": "4c319d92",
      "execution_count": null,
      "outputs": []
    },
    {
      "cell_type": "markdown",
      "metadata": {},
      "source": [
        "Finally we can sample the SOWs\n"
      ],
      "id": "d2d80573"
    },
    {
      "cell_type": "code",
      "metadata": {},
      "source": [
        "#| output: false\n",
        "Random.seed!(421521)\n",
        "N_SOW = 10_000\n",
        "N_SOW_opt = 10 # to start\n",
        "sows = [draw_sow() for _ in 1:N_SOW]\n",
        "sows_opt = first(sows, N_SOW_opt)"
      ],
      "id": "88c3a01f",
      "execution_count": null,
      "outputs": []
    },
    {
      "cell_type": "markdown",
      "metadata": {},
      "source": [
        "# Optimization\n",
        "\n",
        "## Bounds\n",
        "\n",
        "We have a single decision variable, the height of the house above the ground.\n",
        "This can be any real number between 0 and 14 feet.\n"
      ],
      "id": "1afd1267"
    },
    {
      "cell_type": "code",
      "metadata": {},
      "source": [
        "bounds = boxconstraints(; lb=[0.0], ub=[14.0])"
      ],
      "id": "aec11e38",
      "execution_count": null,
      "outputs": []
    },
    {
      "cell_type": "markdown",
      "metadata": {},
      "source": [
        "## Objective function\n",
        "\n",
        "We next need an objective function.\n",
        "Recall that we want to _maximize_ NPV, but the optimization package we are using is set up to _minimize_.\n",
        "\n",
        "## New model\n"
      ],
      "id": "20556cd6"
    },
    {
      "cell_type": "code",
      "metadata": {},
      "source": [
        "function objective_function(Δh::Vector{Float64})\n",
        "    a = Action(Δh[1])\n",
        "    npvs = [run_sim(a, sow, p, false) for sow in sows_opt]\n",
        "    return -mean(npvs)\n",
        "end"
      ],
      "id": "2c33bf7d",
      "execution_count": null,
      "outputs": []
    },
    {
      "cell_type": "markdown",
      "metadata": {},
      "source": [
        "## Running\n",
        "\n",
        "We can throw this straight into the `optimize` function:\n"
      ],
      "id": "900ebfb3"
    },
    {
      "cell_type": "code",
      "metadata": {},
      "source": [
        "result = optimize(objective_function, bounds)"
      ],
      "id": "8f8ca7bd",
      "execution_count": null,
      "outputs": []
    },
    {
      "cell_type": "markdown",
      "metadata": {},
      "source": [
        "We can view the minimum of the objective function with\n"
      ],
      "id": "41027e6b"
    },
    {
      "cell_type": "code",
      "metadata": {},
      "source": [
        "minimum(result)"
      ],
      "id": "705abd6c",
      "execution_count": null,
      "outputs": []
    },
    {
      "cell_type": "markdown",
      "metadata": {},
      "source": [
        "and the value of the decision variable that achieves that minimum with:\n"
      ],
      "id": "0ee39c15"
    },
    {
      "cell_type": "code",
      "metadata": {},
      "source": [
        "minimizer(result)"
      ],
      "id": "2947c5ba",
      "execution_count": null,
      "outputs": []
    },
    {
      "cell_type": "code",
      "metadata": {},
      "source": [
        "#| output: false\n",
        "elevations_try = 0:0.5:14\n",
        "actions_try = Action.(elevations_try)\n",
        "\n",
        "N_more = 500\n",
        "npvs_moore = [\n",
        "    mean([run_sim(a, sow, p) for sow in first(sows, N_more)]) for a in actions_try\n",
        "]"
      ],
      "id": "2d4e18d5",
      "execution_count": null,
      "outputs": []
    },
    {
      "cell_type": "markdown",
      "metadata": {},
      "source": [
        "and plot\n"
      ],
      "id": "cd43b0af"
    },
    {
      "cell_type": "code",
      "metadata": {},
      "source": [
        "plot(\n",
        "    elevations_try,\n",
        "    npvs_moore ./ 1000;\n",
        "    xlabel=\"Elevation [ft]\",\n",
        "    ylabel=\"NPV [1000 USD]\",\n",
        "    label=\"First $(N_more) SOWs\",\n",
        "    marker=:circle,\n",
        ")"
      ],
      "id": "8e70f42b",
      "execution_count": null,
      "outputs": []
    },
    {
      "cell_type": "code",
      "metadata": {},
      "source": [
        "function objective_function(Δh::Vector{Float64})\n",
        "    a = Action(Δh[1])\n",
        "    npvs = [run_sim_old(a, sow, p) for sow in sows_opt]\n",
        "    return -mean(npvs)\n",
        "end"
      ],
      "id": "9f523f99",
      "execution_count": null,
      "outputs": []
    },
    {
      "cell_type": "markdown",
      "metadata": {},
      "source": [
        "## Running\n",
        "\n",
        "We can throw this straight into the `optimize` function:\n"
      ],
      "id": "ed70ab35"
    },
    {
      "cell_type": "code",
      "metadata": {},
      "source": [
        "result = optimize(objective_function, bounds)"
      ],
      "id": "c335a1d8",
      "execution_count": null,
      "outputs": []
    },
    {
      "cell_type": "markdown",
      "metadata": {},
      "source": [
        "We can view the minimum of the objective function with\n"
      ],
      "id": "bf558d12"
    },
    {
      "cell_type": "code",
      "metadata": {},
      "source": [
        "minimum(result)"
      ],
      "id": "06caa34c",
      "execution_count": null,
      "outputs": []
    },
    {
      "cell_type": "markdown",
      "metadata": {},
      "source": [
        "and the value of the decision variable that achieves that minimum with:\n"
      ],
      "id": "f02d62eb"
    },
    {
      "cell_type": "code",
      "metadata": {},
      "source": [
        "minimizer(result)"
      ],
      "id": "fbaae424",
      "execution_count": null,
      "outputs": []
    },
    {
      "cell_type": "code",
      "metadata": {},
      "source": [
        "#| output: false\n",
        "elevations_try = 0:0.5:14\n",
        "actions_try = Action.(elevations_try)\n",
        "\n",
        "N_more = 500\n",
        "npvs_moore = [\n",
        "    mean([run_sim_old(a, sow, p) for sow in first(sows, N_more)]) for a in actions_try\n",
        "]"
      ],
      "id": "c56092c1",
      "execution_count": null,
      "outputs": []
    },
    {
      "cell_type": "markdown",
      "metadata": {},
      "source": [
        "and plot\n"
      ],
      "id": "0582709c"
    },
    {
      "cell_type": "code",
      "metadata": {},
      "source": [
        "plot(\n",
        "    elevations_try,\n",
        "    npvs_moore ./ 1000;\n",
        "    xlabel=\"Elevation [ft]\",\n",
        "    ylabel=\"NPV [1000 USD]\",\n",
        "    label=\"First $(N_more) SOWs\",\n",
        "    marker=:circle,\n",
        ")"
      ],
      "id": "70694ab7",
      "execution_count": null,
      "outputs": []
    },
    {
      "cell_type": "markdown",
      "metadata": {},
      "source": [
        "### Validation\n",
        "\n",
        "To confirm that the implementation of the housing discount rate is taking place as expected, we look at some values from an example of raising the house one foot with a time period of 10 years. The expected actual damages computed as a function of the sampled sea level rise, sampled storm surge distribution, and housing characteristics that do not change are shown. Then the \n"
      ],
      "id": "f373861b"
    },
    {
      "cell_type": "code",
      "metadata": {},
      "source": [
        "run_sim(Action.(1.0), first(sows), ModelParams(; house=house, years=2024:2034), true)"
      ],
      "id": "cd87de8d",
      "execution_count": null,
      "outputs": []
    }
  ],
  "metadata": {
    "kernelspec": {
      "name": "julia-1.10",
      "language": "julia",
      "display_name": "Julia 1.10.0"
    }
  },
  "nbformat": 4,
  "nbformat_minor": 5
}